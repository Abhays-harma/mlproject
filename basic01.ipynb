{
 "cells": [
  {
   "cell_type": "markdown",
   "id": "7bd1129a",
   "metadata": {},
   "source": [
    "Python Basics"
   ]
  },
  {
   "cell_type": "code",
   "execution_count": 2,
   "id": "b66e3ed5",
   "metadata": {},
   "outputs": [
    {
     "name": "stdout",
     "output_type": "stream",
     "text": [
      "10\n"
     ]
    }
   ],
   "source": [
    "## line continuation\n",
    "total=1+2+3+\\\n",
    "4\n",
    "print(total)"
   ]
  },
  {
   "cell_type": "code",
   "execution_count": 3,
   "id": "6dda26fb",
   "metadata": {},
   "outputs": [
    {
     "name": "stdout",
     "output_type": "stream",
     "text": [
      "11\n"
     ]
    }
   ],
   "source": [
    "## multiple statements on single line\n",
    "x=5;y=6;z=x+y\n",
    "print(z)"
   ]
  },
  {
   "cell_type": "code",
   "execution_count": null,
   "id": "cc111d98",
   "metadata": {},
   "outputs": [
    {
     "name": "stdout",
     "output_type": "stream",
     "text": [
      "<class 'int'>\n",
      "<class 'str'>\n"
     ]
    }
   ],
   "source": [
    "## understanding semantics in python\n",
    "## python understands the type at run type\n",
    "age=32\n",
    "print(type(age)) ##type inference\n",
    "age=\"abhay\"\n",
    "print(type(age))"
   ]
  },
  {
   "cell_type": "markdown",
   "id": "1e0b8482",
   "metadata": {},
   "source": [
    "#### Variables\n",
    "variables in python are fundamental elements that are used to store values and in python we do not need to assign them a type ,it automatically detects the type when you store a value."
   ]
  },
  {
   "cell_type": "code",
   "execution_count": 6,
   "id": "7a71d6b7",
   "metadata": {},
   "outputs": [],
   "source": [
    "name=\"abhay\" ## variable name should start with a letter or underscore and in between we can add numbers also.\n",
    "age=\"21\"\n",
    "height=5.8"
   ]
  },
  {
   "cell_type": "markdown",
   "id": "e0f32b70",
   "metadata": {},
   "source": [
    "#### Lists"
   ]
  },
  {
   "cell_type": "markdown",
   "id": "87a8cb9c",
   "metadata": {},
   "source": [
    "Lists are the python collection which are ordered,mutable,indexable.\n",
    "They can include multiple data types like int,str,bool,float etc."
   ]
  },
  {
   "cell_type": "code",
   "execution_count": 2,
   "id": "6f26dd2a",
   "metadata": {},
   "outputs": [
    {
     "name": "stdout",
     "output_type": "stream",
     "text": [
      "[1, 2, 3, 4, 'heloo', [9, 5]]\n"
     ]
    }
   ],
   "source": [
    "my_list=[1,2,3,4,\"heloo\",[9,5]]\n",
    "print(my_list)"
   ]
  },
  {
   "cell_type": "code",
   "execution_count": 4,
   "id": "486c039c",
   "metadata": {},
   "outputs": [
    {
     "name": "stdout",
     "output_type": "stream",
     "text": [
      "[1, 2, 3]\n",
      "['h', 'e', 'l', 'l', 'o']\n",
      "[0, 1, 2, 3, 4]\n"
     ]
    }
   ],
   "source": [
    "list1=[1,2,3]\n",
    "list2=list(\"hello\")\n",
    "list3=list(range(5))\n",
    "print(list1)\n",
    "print(list2)\n",
    "print(list3)"
   ]
  },
  {
   "cell_type": "code",
   "execution_count": 5,
   "id": "69592e87",
   "metadata": {},
   "outputs": [
    {
     "name": "stdout",
     "output_type": "stream",
     "text": [
      "a\n",
      "d\n"
     ]
    }
   ],
   "source": [
    "lst=['a','b','c','d']\n",
    "print(lst[0])\n",
    "print(lst[-1])"
   ]
  },
  {
   "cell_type": "markdown",
   "id": "c487714d",
   "metadata": {},
   "source": [
    "#### Slicing"
   ]
  },
  {
   "cell_type": "code",
   "execution_count": null,
   "id": "7110fbbf",
   "metadata": {},
   "outputs": [
    {
     "name": "stdout",
     "output_type": "stream",
     "text": [
      "['c', 'd', 'e']\n",
      "['a', 'b', 'c']\n",
      "['c', 'd', 'e', 'f']\n",
      "['d', 'e']\n",
      "['f', 'e', 'd', 'c', 'b', 'a']\n"
     ]
    }
   ],
   "source": [
    "list4=['a','b','c','d','e','f']\n",
    "print(list4[2:5]) #c d e\n",
    "print(list4[:3])  #a b c\n",
    "print(list4[2:])  #c d e f\n",
    "print(list4[-3:-1])#d e\n",
    "print(list4[::-1])# reverses\n"
   ]
  },
  {
   "cell_type": "markdown",
   "id": "4771d19b",
   "metadata": {},
   "source": [
    "#### Double colon"
   ]
  },
  {
   "cell_type": "code",
   "execution_count": 8,
   "id": "9bc47fab",
   "metadata": {},
   "outputs": [
    {
     "name": "stdout",
     "output_type": "stream",
     "text": [
      "[0, 2, 4, 6]\n",
      "[6, 5, 4, 3, 2, 1, 0]\n",
      "[1, 3, 5]\n"
     ]
    }
   ],
   "source": [
    "lst = [0, 1, 2, 3, 4, 5, 6]\n",
    "print(lst[::2]) # 0 2 4 6\n",
    "print(lst[::-1])# reverses\n",
    "print(lst[1::2])#1 3 5\n"
   ]
  },
  {
   "cell_type": "markdown",
   "id": "65906641",
   "metadata": {},
   "source": [
    "#### List Methods"
   ]
  },
  {
   "cell_type": "code",
   "execution_count": 9,
   "id": "27263e42",
   "metadata": {},
   "outputs": [],
   "source": [
    "lst=[1,2,3]"
   ]
  },
  {
   "cell_type": "code",
   "execution_count": 12,
   "id": "63b9e5d5",
   "metadata": {},
   "outputs": [
    {
     "data": {
      "text/plain": [
       "[1, 2, 3, 4, 4]"
      ]
     },
     "execution_count": 12,
     "metadata": {},
     "output_type": "execute_result"
    }
   ],
   "source": [
    "lst.append(4)\n",
    "lst"
   ]
  },
  {
   "cell_type": "code",
   "execution_count": 13,
   "id": "a2cfb903",
   "metadata": {},
   "outputs": [
    {
     "data": {
      "text/plain": [
       "[1, 2, 3, 4, 4, 5, 6]"
      ]
     },
     "execution_count": 13,
     "metadata": {},
     "output_type": "execute_result"
    }
   ],
   "source": [
    "lst.extend([5,6])\n",
    "lst"
   ]
  },
  {
   "cell_type": "code",
   "execution_count": 14,
   "id": "cb9a81a6",
   "metadata": {},
   "outputs": [
    {
     "data": {
      "text/plain": [
       "[1, 2, 3, 4, 4, 5]"
      ]
     },
     "execution_count": 14,
     "metadata": {},
     "output_type": "execute_result"
    }
   ],
   "source": [
    "lst.remove(6)\n",
    "lst"
   ]
  },
  {
   "cell_type": "code",
   "execution_count": 15,
   "id": "bdd4ac5a",
   "metadata": {},
   "outputs": [
    {
     "data": {
      "text/plain": [
       "[1, 9, 2, 3, 4, 4, 5]"
      ]
     },
     "execution_count": 15,
     "metadata": {},
     "output_type": "execute_result"
    }
   ],
   "source": [
    "lst.insert(1,9)\n",
    "lst"
   ]
  },
  {
   "cell_type": "code",
   "execution_count": 18,
   "id": "0f407db7",
   "metadata": {},
   "outputs": [
    {
     "name": "stdout",
     "output_type": "stream",
     "text": [
      "4\n",
      "[1, 9, 2, 3]\n"
     ]
    }
   ],
   "source": [
    "lst_pop=lst.pop()\n",
    "print(lst_pop)\n",
    "print(lst)"
   ]
  },
  {
   "cell_type": "code",
   "execution_count": 19,
   "id": "136c7bac",
   "metadata": {},
   "outputs": [
    {
     "data": {
      "text/plain": [
       "[1, 2, 3, 9]"
      ]
     },
     "execution_count": 19,
     "metadata": {},
     "output_type": "execute_result"
    }
   ],
   "source": [
    "lst.sort()\n",
    "lst"
   ]
  },
  {
   "cell_type": "code",
   "execution_count": 20,
   "id": "ab198709",
   "metadata": {},
   "outputs": [
    {
     "data": {
      "text/plain": [
       "[9, 3, 2, 1]"
      ]
     },
     "execution_count": 20,
     "metadata": {},
     "output_type": "execute_result"
    }
   ],
   "source": [
    "lst.reverse()\n",
    "lst"
   ]
  },
  {
   "cell_type": "code",
   "execution_count": 21,
   "id": "5939e14a",
   "metadata": {},
   "outputs": [],
   "source": [
    "lst=[\"abhay\",\"sharma\",\"puttu\",\"xyz\",\"mno\",\"pqr\"]"
   ]
  },
  {
   "cell_type": "code",
   "execution_count": 23,
   "id": "40dd44e2",
   "metadata": {},
   "outputs": [
    {
     "name": "stdout",
     "output_type": "stream",
     "text": [
      "abhay\n",
      "sharma\n",
      "puttu\n",
      "xyz\n",
      "mno\n",
      "pqr\n"
     ]
    }
   ],
   "source": [
    "for name in lst:\n",
    "    print(name)"
   ]
  },
  {
   "cell_type": "code",
   "execution_count": 24,
   "id": "acc76822",
   "metadata": {},
   "outputs": [
    {
     "name": "stdout",
     "output_type": "stream",
     "text": [
      "0 abhay\n",
      "1 sharma\n",
      "2 puttu\n",
      "3 xyz\n",
      "4 mno\n",
      "5 pqr\n"
     ]
    }
   ],
   "source": [
    "for i,name in enumerate(lst):\n",
    "    print(i,name)"
   ]
  },
  {
   "cell_type": "markdown",
   "id": "ae14d077",
   "metadata": {},
   "source": [
    "#### List Comprehension"
   ]
  },
  {
   "cell_type": "code",
   "execution_count": 25,
   "id": "f7256a07",
   "metadata": {},
   "outputs": [
    {
     "name": "stdout",
     "output_type": "stream",
     "text": [
      "[0, 1, 4, 9, 16, 25, 36, 49, 64, 81]\n"
     ]
    }
   ],
   "source": [
    "lst=[x**2 for x in range(10)]\n",
    "print(lst)"
   ]
  },
  {
   "cell_type": "code",
   "execution_count": 28,
   "id": "10fe4ea6",
   "metadata": {},
   "outputs": [
    {
     "data": {
      "text/plain": [
       "[0, 2, 4, 6, 8, 10]"
      ]
     },
     "execution_count": 28,
     "metadata": {},
     "output_type": "execute_result"
    }
   ],
   "source": [
    "lst=[x for x in range(11) if x%2==0]\n",
    "lst"
   ]
  },
  {
   "cell_type": "markdown",
   "id": "b8b427b6",
   "metadata": {},
   "source": [
    "#### Tuples\n",
    "A tuple is a orderded,immutable collection of items that can store different types of data like integer,strings,boolean,lists or any other tuple."
   ]
  },
  {
   "cell_type": "code",
   "execution_count": 2,
   "id": "15e303bf",
   "metadata": {},
   "outputs": [
    {
     "name": "stdout",
     "output_type": "stream",
     "text": [
      "(1, 2, 3)\n",
      "<class 'tuple'>\n"
     ]
    }
   ],
   "source": [
    "my_tuple=(1,2,3)\n",
    "print(my_tuple)\n",
    "print(type(my_tuple))"
   ]
  },
  {
   "cell_type": "code",
   "execution_count": 3,
   "id": "e6cd1401",
   "metadata": {},
   "outputs": [
    {
     "name": "stdout",
     "output_type": "stream",
     "text": [
      "(1, 'hello', 3)\n"
     ]
    }
   ],
   "source": [
    "mixed_tuple=(1,\"hello\",3)\n",
    "print(mixed_tuple)"
   ]
  },
  {
   "cell_type": "code",
   "execution_count": 8,
   "id": "d09bb1a5",
   "metadata": {},
   "outputs": [
    {
     "name": "stdout",
     "output_type": "stream",
     "text": [
      "(1,)\n",
      "<class 'tuple'>\n"
     ]
    }
   ],
   "source": [
    "single_tuple=(1,) # In a single tuple ,we have to must add a column to make a tuple otherwise it will be trated as a int.\n",
    "print(single_tuple)\n",
    "print(type(single_tuple))"
   ]
  },
  {
   "cell_type": "code",
   "execution_count": 9,
   "id": "a03632a1",
   "metadata": {},
   "outputs": [
    {
     "name": "stdout",
     "output_type": "stream",
     "text": [
      "(1, 2, 3, 4, 5)\n"
     ]
    }
   ],
   "source": [
    "# without parenthesis\n",
    "without_parenthesis=1,2,3,4,5\n",
    "print(without_parenthesis)"
   ]
  },
  {
   "cell_type": "code",
   "execution_count": 12,
   "id": "29257e69",
   "metadata": {},
   "outputs": [
    {
     "name": "stdout",
     "output_type": "stream",
     "text": [
      "(1, 2, 3, (9, 5, 8), (1, 2, ('abhay', 'sharma')), [1, 2, 3, (1, 2, 3, ['abhay', 'sharma'])])\n",
      "<class 'tuple'>\n"
     ]
    }
   ],
   "source": [
    "# Nested Tuples\n",
    "nested_tuple=(1,2,3,(9,5,8),(1,2,(\"abhay\",\"sharma\")),[1,2,3,(1,2,3,[\"abhay\",\"sharma\"])])\n",
    "print(nested_tuple)\n",
    "print(type(nested_tuple))"
   ]
  },
  {
   "cell_type": "code",
   "execution_count": 18,
   "id": "13b24748",
   "metadata": {},
   "outputs": [
    {
     "name": "stdout",
     "output_type": "stream",
     "text": [
      "3\n"
     ]
    }
   ],
   "source": [
    "## count function -> count the number of occurances of an element\n",
    "tup=(1,2,1,2,4,2,3,1)\n",
    "print(tup.count(1))"
   ]
  },
  {
   "cell_type": "code",
   "execution_count": 16,
   "id": "3ec08807",
   "metadata": {},
   "outputs": [
    {
     "name": "stdout",
     "output_type": "stream",
     "text": [
      "6\n"
     ]
    }
   ],
   "source": [
    "## index function -> which finds index of an element\n",
    "print(tup.index(3))"
   ]
  },
  {
   "cell_type": "code",
   "execution_count": 19,
   "id": "686676c9",
   "metadata": {},
   "outputs": [
    {
     "name": "stdout",
     "output_type": "stream",
     "text": [
      "[1, 1, 1, 2, 2, 2, 3, 4]\n"
     ]
    }
   ],
   "source": [
    "print(sorted(tup))"
   ]
  },
  {
   "cell_type": "code",
   "execution_count": 21,
   "id": "32a774da",
   "metadata": {},
   "outputs": [
    {
     "name": "stdout",
     "output_type": "stream",
     "text": [
      "9\n",
      "5\n",
      "8\n"
     ]
    }
   ],
   "source": [
    "# Tuple unpacking\n",
    "t=(9,5,8)\n",
    "a,b,c=t\n",
    "print(a)\n",
    "print(b)\n",
    "print(c)"
   ]
  },
  {
   "cell_type": "code",
   "execution_count": 22,
   "id": "02e63904",
   "metadata": {},
   "outputs": [
    {
     "name": "stdout",
     "output_type": "stream",
     "text": [
      "9\n",
      "[5, 8, 2, 1, 9, 4, 8, 4]\n",
      "1\n"
     ]
    }
   ],
   "source": [
    "# Tuple unpacking by * operator\n",
    "mob=(9,5,8,2,1,9,4,8,4,1)\n",
    "a,*b,c=mob\n",
    "print(a)\n",
    "print(b)\n",
    "print(c)"
   ]
  },
  {
   "cell_type": "markdown",
   "id": "7901a85c",
   "metadata": {},
   "source": [
    "#### Sets\n",
    "Sets are unordered data structure that holds unique items"
   ]
  },
  {
   "cell_type": "code",
   "execution_count": 3,
   "id": "22cdee30",
   "metadata": {},
   "outputs": [
    {
     "name": "stdout",
     "output_type": "stream",
     "text": [
      "{1, 2, 3}\n"
     ]
    }
   ],
   "source": [
    "my_set={1,2,3}\n",
    "print(my_set)"
   ]
  },
  {
   "cell_type": "code",
   "execution_count": 4,
   "id": "a7905644",
   "metadata": {},
   "outputs": [
    {
     "name": "stdout",
     "output_type": "stream",
     "text": [
      "{1, 2, 3}\n"
     ]
    }
   ],
   "source": [
    "my_set=set([1,2,3])\n",
    "print(my_set)"
   ]
  },
  {
   "cell_type": "code",
   "execution_count": 7,
   "id": "b4259814",
   "metadata": {},
   "outputs": [
    {
     "name": "stdout",
     "output_type": "stream",
     "text": [
      "set()\n",
      "<class 'set'>\n"
     ]
    }
   ],
   "source": [
    "empty_set=set()\n",
    "print(empty_set)\n",
    "print(type(empty_set))"
   ]
  },
  {
   "cell_type": "code",
   "execution_count": 8,
   "id": "b7d93962",
   "metadata": {},
   "outputs": [
    {
     "name": "stdout",
     "output_type": "stream",
     "text": [
      "{1, 3.14, 'hello'}\n"
     ]
    }
   ],
   "source": [
    "mixed={1,\"hello\",3.14}\n",
    "print(mixed)"
   ]
  },
  {
   "cell_type": "code",
   "execution_count": 9,
   "id": "e8e3fbae",
   "metadata": {},
   "outputs": [
    {
     "name": "stdout",
     "output_type": "stream",
     "text": [
      "{1, 2, 3, 4, 5}\n"
     ]
    }
   ],
   "source": [
    "set1={1,2,3}\n",
    "set2={3,4,5}\n",
    "# union\n",
    "print(set1.union(set2))"
   ]
  },
  {
   "cell_type": "code",
   "execution_count": 10,
   "id": "7ce954ab",
   "metadata": {},
   "outputs": [
    {
     "name": "stdout",
     "output_type": "stream",
     "text": [
      "{3}\n"
     ]
    }
   ],
   "source": [
    "#intersection->this gives the common element in 2 sets\n",
    "print(set1.intersection(set2))"
   ]
  },
  {
   "cell_type": "code",
   "execution_count": 12,
   "id": "a56f240f",
   "metadata": {},
   "outputs": [
    {
     "name": "stdout",
     "output_type": "stream",
     "text": [
      "{1, 2}\n"
     ]
    }
   ],
   "source": [
    "#difference->elements in set1 not in set2\n",
    "print(set1.difference(set2))"
   ]
  },
  {
   "cell_type": "code",
   "execution_count": 13,
   "id": "b9541812",
   "metadata": {},
   "outputs": [
    {
     "name": "stdout",
     "output_type": "stream",
     "text": [
      "{1, 2, 4, 5}\n"
     ]
    }
   ],
   "source": [
    "#symmetric difference -> items i either but not in both\n",
    "print(set1.symmetric_difference(set2))"
   ]
  },
  {
   "cell_type": "code",
   "execution_count": 15,
   "id": "99484f25",
   "metadata": {},
   "outputs": [
    {
     "name": "stdout",
     "output_type": "stream",
     "text": [
      "False\n"
     ]
    }
   ],
   "source": [
    "#issubset->triu if all elements in other\n",
    "print(set1.issubset(set2))"
   ]
  },
  {
   "cell_type": "code",
   "execution_count": 16,
   "id": "31ca0ba4",
   "metadata": {},
   "outputs": [
    {
     "name": "stdout",
     "output_type": "stream",
     "text": [
      "False\n"
     ]
    }
   ],
   "source": [
    "#issuperset->true if contains all elements of other\n",
    "print(set1.issuperset(set2))"
   ]
  },
  {
   "cell_type": "code",
   "execution_count": 17,
   "id": "2cf42b36",
   "metadata": {},
   "outputs": [
    {
     "name": "stdout",
     "output_type": "stream",
     "text": [
      "True\n"
     ]
    }
   ],
   "source": [
    "st1={1,2,3,4,5}\n",
    "st2={1,5}\n",
    "print(st1.issuperset(st2))"
   ]
  },
  {
   "cell_type": "code",
   "execution_count": 22,
   "id": "8ba93b3c",
   "metadata": {},
   "outputs": [
    {
     "name": "stdout",
     "output_type": "stream",
     "text": [
      "{1, 2, 3, 4, 5, 6, 7}\n"
     ]
    }
   ],
   "source": [
    "#update\n",
    "st1.update([7])\n",
    "print(st1)"
   ]
  },
  {
   "cell_type": "code",
   "execution_count": 23,
   "id": "cd0ab98f",
   "metadata": {},
   "outputs": [],
   "source": [
    "st1.intersection_update(st2)"
   ]
  },
  {
   "cell_type": "code",
   "execution_count": 24,
   "id": "3cf0296c",
   "metadata": {},
   "outputs": [
    {
     "name": "stdout",
     "output_type": "stream",
     "text": [
      "{1, 5}\n"
     ]
    }
   ],
   "source": [
    "print(st1)"
   ]
  },
  {
   "cell_type": "code",
   "execution_count": 27,
   "id": "f11b18e5",
   "metadata": {},
   "outputs": [
    {
     "name": "stdout",
     "output_type": "stream",
     "text": [
      "{1, 2, 6}\n"
     ]
    }
   ],
   "source": [
    "st1={1,2,3,5,6}\n",
    "st2={3,4,5}\n",
    "st1.difference_update(st2)\n",
    "print(st1)"
   ]
  },
  {
   "cell_type": "code",
   "execution_count": 32,
   "id": "1b4e9ffc",
   "metadata": {},
   "outputs": [
    {
     "name": "stdout",
     "output_type": "stream",
     "text": [
      "True\n",
      "False\n"
     ]
    }
   ],
   "source": [
    "# Membership Test\n",
    "s={1,2,3}\n",
    "print(2 in s)\n",
    "print(5 in s)"
   ]
  },
  {
   "cell_type": "code",
   "execution_count": 39,
   "id": "dd3c75eb",
   "metadata": {},
   "outputs": [
    {
     "name": "stdout",
     "output_type": "stream",
     "text": [
      "union is :  {1, 2, 3, 4, 5}\n",
      "intersection is :  {3}\n",
      "a-b= {1, 2}\n",
      "b-a= {4, 5}\n"
     ]
    }
   ],
   "source": [
    "a={1,2,3}\n",
    "b={3,4,5}\n",
    "\n",
    "print(\"union is : \",a | b)\n",
    "print(\"intersection is : \",a & b)\n",
    "print(\"a-b=\",a-b)\n",
    "print(\"b-a=\",b-a)\n"
   ]
  },
  {
   "cell_type": "markdown",
   "id": "fab1bcaf",
   "metadata": {},
   "source": [
    "#### Dictionary\n",
    "a dictionary is an unordered,mutable collection of key-value pairs,each key is unique and each key maps to a value."
   ]
  },
  {
   "cell_type": "code",
   "execution_count": 2,
   "id": "f805becd",
   "metadata": {},
   "outputs": [
    {
     "name": "stdout",
     "output_type": "stream",
     "text": [
      "{'name': 'abhay', 'age': 21, 'city': 'Delhi'}\n"
     ]
    }
   ],
   "source": [
    "my_dict={\"name\":\"abhay\",\"age\":21,\"city\":\"Delhi\"}\n",
    "print(my_dict)"
   ]
  },
  {
   "cell_type": "code",
   "execution_count": 3,
   "id": "af361669",
   "metadata": {},
   "outputs": [
    {
     "name": "stdout",
     "output_type": "stream",
     "text": [
      "{'name': 'abhay', 'age': 21}\n"
     ]
    }
   ],
   "source": [
    "my_dict1=dict(name=\"abhay\",age=21)\n",
    "print(my_dict1)"
   ]
  },
  {
   "cell_type": "code",
   "execution_count": 4,
   "id": "0f480bd1",
   "metadata": {},
   "outputs": [
    {
     "name": "stdout",
     "output_type": "stream",
     "text": [
      "<class 'dict'>\n"
     ]
    }
   ],
   "source": [
    "empty_dict={}\n",
    "print(type(empty_dict))"
   ]
  },
  {
   "cell_type": "code",
   "execution_count": 5,
   "id": "4168eefb",
   "metadata": {},
   "outputs": [
    {
     "name": "stdout",
     "output_type": "stream",
     "text": [
      "abhay\n"
     ]
    }
   ],
   "source": [
    "print(my_dict[\"name\"])"
   ]
  },
  {
   "cell_type": "code",
   "execution_count": 9,
   "id": "cead8097",
   "metadata": {},
   "outputs": [
    {
     "name": "stdout",
     "output_type": "stream",
     "text": [
      "21\n"
     ]
    }
   ],
   "source": [
    "print(my_dict.get(\"age\"))"
   ]
  },
  {
   "cell_type": "code",
   "execution_count": 10,
   "id": "8a28a80b",
   "metadata": {},
   "outputs": [
    {
     "name": "stdout",
     "output_type": "stream",
     "text": [
      "None\n"
     ]
    }
   ],
   "source": [
    "print(my_dict.get(\"gender\"))"
   ]
  },
  {
   "cell_type": "code",
   "execution_count": 11,
   "id": "6b53e31f",
   "metadata": {},
   "outputs": [
    {
     "name": "stdout",
     "output_type": "stream",
     "text": [
      "101\n"
     ]
    }
   ],
   "source": [
    "my_dict[\"age\"]=101\n",
    "print(my_dict[\"age\"])"
   ]
  },
  {
   "cell_type": "code",
   "execution_count": 12,
   "id": "86519dfa",
   "metadata": {},
   "outputs": [],
   "source": [
    "my_dict[\"gender\"]=\"Male\""
   ]
  },
  {
   "cell_type": "code",
   "execution_count": 13,
   "id": "c0ab9432",
   "metadata": {},
   "outputs": [
    {
     "name": "stdout",
     "output_type": "stream",
     "text": [
      "Male\n"
     ]
    }
   ],
   "source": [
    "print(my_dict[\"gender\"])"
   ]
  },
  {
   "cell_type": "code",
   "execution_count": 14,
   "id": "192296a0",
   "metadata": {},
   "outputs": [
    {
     "name": "stdout",
     "output_type": "stream",
     "text": [
      "name abhay\n",
      "age 101\n",
      "city Delhi\n",
      "gender Male\n"
     ]
    }
   ],
   "source": [
    "#Looping through keys\n",
    "for key in my_dict:\n",
    "    print(key,my_dict[key])"
   ]
  },
  {
   "cell_type": "code",
   "execution_count": 15,
   "id": "369d5a93",
   "metadata": {},
   "outputs": [
    {
     "name": "stdout",
     "output_type": "stream",
     "text": [
      "name -> abhay\n",
      "age -> 101\n",
      "city -> Delhi\n",
      "gender -> Male\n"
     ]
    }
   ],
   "source": [
    "#Looping through key-value pairs\n",
    "for key,value in my_dict.items():\n",
    "    print(key,\"->\",value)"
   ]
  },
  {
   "cell_type": "code",
   "execution_count": 16,
   "id": "c8009b73",
   "metadata": {},
   "outputs": [
    {
     "name": "stdout",
     "output_type": "stream",
     "text": [
      "Alice\n"
     ]
    }
   ],
   "source": [
    "student={\n",
    "    \"name\":\"Alice\",\n",
    "    \"age\":21,\n",
    "    \"subjects\":[\"Math\",\"Physics\"]\n",
    "}\n",
    "print(student[\"name\"])"
   ]
  },
  {
   "cell_type": "code",
   "execution_count": 17,
   "id": "bfcdc1c3",
   "metadata": {},
   "outputs": [],
   "source": [
    "student[\"city\"]=\"New Delhi\""
   ]
  },
  {
   "cell_type": "code",
   "execution_count": 18,
   "id": "37016a72",
   "metadata": {},
   "outputs": [],
   "source": [
    "student.update({\"age\":19,\"gender\":\"Male\"})"
   ]
  },
  {
   "cell_type": "code",
   "execution_count": 19,
   "id": "03ec5f59",
   "metadata": {},
   "outputs": [
    {
     "name": "stdout",
     "output_type": "stream",
     "text": [
      "{'name': 'Alice', 'age': 19, 'subjects': ['Math', 'Physics'], 'city': 'New Delhi', 'gender': 'Male'}\n"
     ]
    }
   ],
   "source": [
    "print(student)"
   ]
  },
  {
   "cell_type": "code",
   "execution_count": 20,
   "id": "85ae2e7e",
   "metadata": {},
   "outputs": [
    {
     "data": {
      "text/plain": [
       "['Math', 'Physics']"
      ]
     },
     "execution_count": 20,
     "metadata": {},
     "output_type": "execute_result"
    }
   ],
   "source": [
    "student.pop(\"subjects\")"
   ]
  },
  {
   "cell_type": "code",
   "execution_count": 21,
   "id": "680b4cc0",
   "metadata": {},
   "outputs": [
    {
     "name": "stdout",
     "output_type": "stream",
     "text": [
      "{'name': 'Alice', 'age': 19, 'city': 'New Delhi', 'gender': 'Male'}\n"
     ]
    }
   ],
   "source": [
    "new_student=student.copy()\n",
    "print(new_student)"
   ]
  },
  {
   "cell_type": "code",
   "execution_count": 22,
   "id": "46e925c8",
   "metadata": {},
   "outputs": [],
   "source": [
    "# Dictionary comprehension\n",
    "squares={x:x*x for x in range(5)}"
   ]
  },
  {
   "cell_type": "code",
   "execution_count": 23,
   "id": "b977926d",
   "metadata": {},
   "outputs": [
    {
     "name": "stdout",
     "output_type": "stream",
     "text": [
      "{0: 0, 1: 1, 2: 4, 3: 9, 4: 16}\n"
     ]
    }
   ],
   "source": [
    "print(squares)"
   ]
  },
  {
   "cell_type": "markdown",
   "id": "5da85a2d",
   "metadata": {},
   "source": [
    "#### Lamda function\n",
    "a lambda function is an anonymous function"
   ]
  },
  {
   "cell_type": "code",
   "execution_count": 1,
   "id": "8b5dd5c1",
   "metadata": {},
   "outputs": [],
   "source": [
    "addition=lambda x,y:x+y\n"
   ]
  },
  {
   "cell_type": "code",
   "execution_count": 2,
   "id": "6d6e5dfe",
   "metadata": {},
   "outputs": [
    {
     "name": "stdout",
     "output_type": "stream",
     "text": [
      "5\n"
     ]
    }
   ],
   "source": [
    "print(addition(2,3))"
   ]
  },
  {
   "cell_type": "code",
   "execution_count": 9,
   "id": "c05616ae",
   "metadata": {},
   "outputs": [
    {
     "name": "stdout",
     "output_type": "stream",
     "text": [
      "[1, 4, 9, 16, 25, 36, 49, 64, 81, 100]\n"
     ]
    }
   ],
   "source": [
    "lst=[1,2,3,4,5,6,7,8,9,10]\n",
    "squares=list(map(lambda x:x**2,lst))\n",
    "print(squares)"
   ]
  },
  {
   "cell_type": "code",
   "execution_count": 11,
   "id": "61d129bb",
   "metadata": {},
   "outputs": [
    {
     "name": "stdout",
     "output_type": "stream",
     "text": [
      "[5, 7, 9]\n"
     ]
    }
   ],
   "source": [
    "numbers1=[1,2,3]\n",
    "numbers2=[4,5,6]\n",
    "\n",
    "added_numbers=list(map(lambda x,y:x+y,numbers1,numbers2))\n",
    "print(added_numbers)"
   ]
  },
  {
   "cell_type": "markdown",
   "id": "f6207daa",
   "metadata": {},
   "source": [
    "#### Filter\n",
    "filter basically used to iterate and filter data with an condition ,it is used for data cleaning."
   ]
  },
  {
   "cell_type": "code",
   "execution_count": 2,
   "id": "da3bc50c",
   "metadata": {},
   "outputs": [
    {
     "data": {
      "text/plain": [
       "[6, 8, 10]"
      ]
     },
     "execution_count": 2,
     "metadata": {},
     "output_type": "execute_result"
    }
   ],
   "source": [
    "numbers=[1,2,3,4,5,6,7,8,9,10]\n",
    "list(filter(lambda x:x%2==0 and x>5,numbers))"
   ]
  },
  {
   "cell_type": "code",
   "execution_count": 1,
   "id": "6a0d803f",
   "metadata": {},
   "outputs": [
    {
     "data": {
      "text/plain": [
       "[9, 8, 9, 8]"
      ]
     },
     "execution_count": 1,
     "metadata": {},
     "output_type": "execute_result"
    }
   ],
   "source": [
    "nums=[9,5,8,2,1,9,4,8,4,1]\n",
    "list(filter(lambda x:x>5,nums))"
   ]
  },
  {
   "cell_type": "markdown",
   "id": "6a8d58e4",
   "metadata": {},
   "source": [
    "#### Importing modules"
   ]
  },
  {
   "cell_type": "code",
   "execution_count": 3,
   "id": "4f4fe23c",
   "metadata": {},
   "outputs": [
    {
     "name": "stdout",
     "output_type": "stream",
     "text": [
      "5.0\n",
      "3.141592653589793\n"
     ]
    }
   ],
   "source": [
    "from math import sqrt,pi\n",
    "print(sqrt(25))\n",
    "print(pi)"
   ]
  },
  {
   "cell_type": "code",
   "execution_count": 5,
   "id": "ec884743",
   "metadata": {},
   "outputs": [],
   "source": [
    "import numpy as np\n",
    "import pandas as pd"
   ]
  },
  {
   "cell_type": "code",
   "execution_count": 6,
   "id": "999466a7",
   "metadata": {},
   "outputs": [
    {
     "data": {
      "text/plain": [
       "array([1, 2, 3])"
      ]
     },
     "execution_count": 6,
     "metadata": {},
     "output_type": "execute_result"
    }
   ],
   "source": [
    "np.array([1,2,3])"
   ]
  },
  {
   "cell_type": "code",
   "execution_count": 8,
   "id": "613d6a94",
   "metadata": {},
   "outputs": [],
   "source": [
    "from math import * # to import everything from math"
   ]
  },
  {
   "cell_type": "markdown",
   "id": "9b41e65a",
   "metadata": {},
   "source": [
    "#### Calculating monthly emi on house loan"
   ]
  },
  {
   "cell_type": "code",
   "execution_count": 6,
   "id": "56644f1c",
   "metadata": {},
   "outputs": [
    {
     "name": "stdout",
     "output_type": "stream",
     "text": [
      "Monthly EMI: ₹40222.7\n"
     ]
    }
   ],
   "source": [
    "def calculate_emi(principal, annual_rate, years):\n",
    "    # Convert annual interest rate to monthly and percentage to decimal\n",
    "    monthly_rate = annual_rate / (12 * 100)\n",
    "    months = years * 12\n",
    "\n",
    "    # EMI formula\n",
    "    emi = (principal * monthly_rate * (1 + monthly_rate) ** months) / \\\n",
    "          ((1 + monthly_rate) ** months - 1)\n",
    "    \n",
    "    return round(emi, 2)\n",
    "\n",
    "# Example Usage\n",
    "principal_amount = 2500000\n",
    "interest_rate = 9\n",
    "loan_tenure = 7 \n",
    "\n",
    "emi = calculate_emi(principal_amount, interest_rate, loan_tenure)\n",
    "print(f\"Monthly EMI: ₹{emi}\")\n"
   ]
  },
  {
   "cell_type": "code",
   "execution_count": 14,
   "id": "766529ec",
   "metadata": {},
   "outputs": [
    {
     "data": {
      "text/plain": [
       "10"
      ]
     },
     "execution_count": 14,
     "metadata": {},
     "output_type": "execute_result"
    }
   ],
   "source": [
    "from packages.mult import multiply #making our own packages\n",
    "multiply(2,5)"
   ]
  },
  {
   "cell_type": "code",
   "execution_count": 15,
   "id": "85bb0872",
   "metadata": {},
   "outputs": [
    {
     "data": {
      "text/plain": [
       "11"
      ]
     },
     "execution_count": 15,
     "metadata": {},
     "output_type": "execute_result"
    }
   ],
   "source": [
    "from packages.addition import addition\n",
    "addition(10,1)"
   ]
  },
  {
   "cell_type": "markdown",
   "id": "9a8b740c",
   "metadata": {},
   "source": [
    "#### Standard library"
   ]
  },
  {
   "cell_type": "code",
   "execution_count": 6,
   "id": "fc785eb7",
   "metadata": {},
   "outputs": [
    {
     "name": "stdout",
     "output_type": "stream",
     "text": [
      "8\n",
      "3\n"
     ]
    }
   ],
   "source": [
    "import random\n",
    "print(random.randint(1,10))\n",
    "print(random.choice([1,2,3,4,5,6]))"
   ]
  },
  {
   "cell_type": "code",
   "execution_count": 8,
   "id": "82e15b0b",
   "metadata": {},
   "outputs": [
    {
     "data": {
      "text/plain": [
       "'destination.txt'"
      ]
     },
     "execution_count": 8,
     "metadata": {},
     "output_type": "execute_result"
    }
   ],
   "source": [
    "import shutil #High level opeartions on file.\n",
    "shutil.copyfile('source.txt','destination.txt')"
   ]
  },
  {
   "cell_type": "code",
   "execution_count": 14,
   "id": "359d6c5e",
   "metadata": {},
   "outputs": [
    {
     "name": "stdout",
     "output_type": "stream",
     "text": [
      "json data :  {\"name\": \"abhay\", \"age\": 21}\n",
      "<class 'str'>\n",
      "back to original data : {'name': 'abhay', 'age': 21}\n",
      "<class 'dict'>\n"
     ]
    }
   ],
   "source": [
    "import json\n",
    "data={\"name\":\"abhay\",\"age\":21}\n",
    "json_data=json.dumps(data) #dict to json form\n",
    "print(\"json data : \",json_data)\n",
    "print(type(json_data))\n",
    "\n",
    "dict_data=json.loads(json_data)\n",
    "print(\"back to original data :\",dict_data)\n",
    "print(type(dict_data))"
   ]
  },
  {
   "cell_type": "code",
   "execution_count": 19,
   "id": "439d7882",
   "metadata": {},
   "outputs": [
    {
     "name": "stdout",
     "output_type": "stream",
     "text": [
      "['This is new line,ok!.']\n"
     ]
    }
   ],
   "source": [
    "# csv\n",
    "import csv\n",
    "with open('example.csv',mode='w',newline='') as file:\n",
    "    writer=csv.writer(file)\n",
    "    writer.writerow(['This is new line,ok!.'])\n",
    "with open('example.csv',mode='r') as file:\n",
    "    reader=csv.reader(file)\n",
    "    for row in reader:\n",
    "        print(row)"
   ]
  },
  {
   "cell_type": "code",
   "execution_count": 4,
   "id": "1a323fd1",
   "metadata": {},
   "outputs": [
    {
     "name": "stdout",
     "output_type": "stream",
     "text": [
      "456\n"
     ]
    }
   ],
   "source": [
    "#regular expression\n",
    "import re\n",
    "\n",
    "pattern=r'\\d+'\n",
    "text='there are 456 people 123.'\n",
    "match=re.search(pattern,text)\n",
    "print(match.group())"
   ]
  },
  {
   "cell_type": "markdown",
   "id": "1fc5ea6a",
   "metadata": {},
   "source": [
    "#### File Handling"
   ]
  },
  {
   "cell_type": "code",
   "execution_count": 2,
   "id": "4b023fb9",
   "metadata": {},
   "outputs": [
    {
     "name": "stdout",
     "output_type": "stream",
     "text": [
      "Hello, I am Abhay , How are you?\n",
      "\n",
      "i am fine.!!\n",
      "append feature is taking place!!!!\n",
      "Hello!!!!\n",
      "first line\n",
      "second line \n",
      "\n"
     ]
    }
   ],
   "source": [
    "with open('example.txt','r') as file:\n",
    "    content=file.read()\n",
    "    print(content)\n",
    "\n"
   ]
  },
  {
   "cell_type": "code",
   "execution_count": 5,
   "id": "94ec3e9a",
   "metadata": {},
   "outputs": [
    {
     "name": "stdout",
     "output_type": "stream",
     "text": [
      "Hello, I am Abhay , How are you?\n",
      "\n",
      "\n",
      "\n",
      "i am fine.!!\n",
      "\n",
      "append feature is taking place!!!!\n",
      "\n",
      "Hello!!!!\n",
      "\n",
      "first line\n",
      "\n",
      "second line \n",
      "\n"
     ]
    }
   ],
   "source": [
    "with open('example.txt','r') as file:\n",
    "    for line in file:\n",
    "        print(line)\n"
   ]
  },
  {
   "cell_type": "code",
   "execution_count": 12,
   "id": "90767006",
   "metadata": {},
   "outputs": [
    {
     "name": "stdout",
     "output_type": "stream",
     "text": [
      "Hello, I am Abhay , How are you?\n",
      "i am fine.!!\n",
      "Hello!!!!\n",
      "first line\n",
      "second line\n"
     ]
    }
   ],
   "source": [
    "with open('example.txt','r') as file:\n",
    "    for line in file:\n",
    "        print(line.strip()) #removes space"
   ]
  },
  {
   "cell_type": "code",
   "execution_count": 7,
   "id": "9b659491",
   "metadata": {},
   "outputs": [],
   "source": [
    "with open('example.txt','w') as file: # overwriting\n",
    "    file.write('Hello, I am Abhay , How are you?\\n')\n",
    "    file.write('i am fine.!!\\n')"
   ]
  },
  {
   "cell_type": "code",
   "execution_count": 9,
   "id": "1a892bcc",
   "metadata": {},
   "outputs": [],
   "source": [
    "with open('example.txt','a') as file: # appending without overwriting\n",
    "    file.write('Hello!!!!\\n')"
   ]
  },
  {
   "cell_type": "code",
   "execution_count": 11,
   "id": "74a760ba",
   "metadata": {},
   "outputs": [],
   "source": [
    "# adding a list of lines\n",
    "lst=['first line\\n','second line \\n']\n",
    "with open('example.txt','a') as file:\n",
    "    file.writelines(lst)\n"
   ]
  },
  {
   "cell_type": "code",
   "execution_count": 13,
   "id": "e5f049f9",
   "metadata": {},
   "outputs": [],
   "source": [
    "# Binary Files\n",
    "# Data to write (as bytes)\n",
    "data = b'\\x48\\x65\\x6C\\x6C\\x6F\\x20\\x42\\x69\\x6E\\x61\\x72\\x79\\x20\\x57\\x6F\\x72\\x6C\\x64'\n",
    "\n",
    "# Open the file in binary write mode\n",
    "with open('example.bin', 'wb') as bin_file:\n",
    "    bin_file.write(data)\n"
   ]
  },
  {
   "cell_type": "code",
   "execution_count": 14,
   "id": "4f0a4c05",
   "metadata": {},
   "outputs": [
    {
     "name": "stdout",
     "output_type": "stream",
     "text": [
      "b'Hello Binary World'\n"
     ]
    }
   ],
   "source": [
    "with open('example.bin','rb') as file:\n",
    "    print(file.read())"
   ]
  },
  {
   "cell_type": "code",
   "execution_count": 15,
   "id": "49887a60",
   "metadata": {},
   "outputs": [],
   "source": [
    "# copy from a source file and paste to a destination file\n",
    "\n",
    "with open('example.txt','r') as file:\n",
    "    content=file.read()\n",
    "with open('final.txt','w') as file:\n",
    "    file.write(content)"
   ]
  },
  {
   "cell_type": "code",
   "execution_count": 17,
   "id": "5bc42046",
   "metadata": {},
   "outputs": [
    {
     "name": "stdout",
     "output_type": "stream",
     "text": [
      "Hello World\n",
      "hi,i am abhay\n",
      "\n"
     ]
    }
   ],
   "source": [
    "with open('initial.txt','w+') as file:\n",
    "    file.write('Hello World\\n')\n",
    "    file.write('hi,i am abhay\\n')\n",
    "\n",
    "    file.seek(0) # basically this will move the cursor to zero line and if we read without adding this line we will see nothing.\n",
    "    print(file.read())"
   ]
  },
  {
   "cell_type": "markdown",
   "id": "7fd5d06f",
   "metadata": {},
   "source": [
    "#### Working with file paths"
   ]
  },
  {
   "cell_type": "code",
   "execution_count": 1,
   "id": "c12c76b2",
   "metadata": {},
   "outputs": [
    {
     "name": "stdout",
     "output_type": "stream",
     "text": [
      "current working directory is c:\\Users\\dell\\OneDrive\\Documents\\mlproject\n"
     ]
    }
   ],
   "source": [
    "import os\n",
    "cwd=os.getcwd()\n",
    "print(f'current working directory is {cwd}')"
   ]
  },
  {
   "cell_type": "code",
   "execution_count": null,
   "id": "984f2635",
   "metadata": {},
   "outputs": [
    {
     "name": "stdout",
     "output_type": "stream",
     "text": [
      "new directory new-directory created\n"
     ]
    }
   ],
   "source": [
    "#Making a new directory\n",
    "new_directory='new-directory'\n",
    "os.mkdir(new_directory)\n",
    "print(f'new directory {new_directory} created')"
   ]
  },
  {
   "cell_type": "code",
   "execution_count": 17,
   "id": "0e0ab25a",
   "metadata": {},
   "outputs": [
    {
     "name": "stdout",
     "output_type": "stream",
     "text": [
      "['.git', '.gitignore', 'basic01.ipynb', 'destination.txt', 'example.bin', 'example.csv', 'example.txt', 'final.txt', 'initial.txt', 'logs', 'mlproject.egg-info', 'new-directory', 'packages', 'README.md', 'requirements.txt', 'setup.py', 'source.txt', 'src', 'venv']\n"
     ]
    }
   ],
   "source": [
    "#Listing files and directories\n",
    "items=os.listdir()\n",
    "print(items)"
   ]
  },
  {
   "cell_type": "code",
   "execution_count": 12,
   "id": "e4c1bd4a",
   "metadata": {},
   "outputs": [
    {
     "name": "stdout",
     "output_type": "stream",
     "text": [
      "The full joined path is: [servers\\1wm2n1wu2wwudw3jdn2.tsx]\n"
     ]
    }
   ],
   "source": [
    "#join paths\n",
    "directory_name='servers'\n",
    "file_name='1wm2n1wu2wwudw3jdn2.tsx'\n",
    "full_path=os.path.join(directory_name,file_name)\n",
    "print(f'The full joined path is: [{full_path}]')"
   ]
  },
  {
   "cell_type": "code",
   "execution_count": 13,
   "id": "5c534f36",
   "metadata": {},
   "outputs": [
    {
     "name": "stdout",
     "output_type": "stream",
     "text": [
      "The full joined path is: [c:\\Users\\dell\\OneDrive\\Documents\\mlproject\\servers\\1wm2n1wu2wwudw3jdn2.tsx]\n"
     ]
    }
   ],
   "source": [
    "directory_name='servers'\n",
    "file_name='1wm2n1wu2wwudw3jdn2.tsx'\n",
    "full_path=os.path.join(os.getcwd(),directory_name,file_name)\n",
    "print(f'The full joined path is: [{full_path}]')"
   ]
  },
  {
   "cell_type": "code",
   "execution_count": 18,
   "id": "c28675f4",
   "metadata": {},
   "outputs": [
    {
     "name": "stdout",
     "output_type": "stream",
     "text": [
      "The example.txt exists.\n"
     ]
    }
   ],
   "source": [
    "#Checking a file exists or not\n",
    "path='example.txt'\n",
    "\n",
    "if os.path.exists(path):\n",
    "    print(f'The {path} exists.')\n",
    "else:\n",
    "    print(f'The {path} does not exists.')"
   ]
  },
  {
   "cell_type": "code",
   "execution_count": 22,
   "id": "ee871f3f",
   "metadata": {},
   "outputs": [
    {
     "name": "stdout",
     "output_type": "stream",
     "text": [
      "it is a directory.\n"
     ]
    }
   ],
   "source": [
    "#Checking a path is a directory or a file\n",
    "path='packages'\n",
    "\n",
    "if os.path.isdir(path):\n",
    "    print('it is a directory.')\n",
    "elif os.path.isfile(path):\n",
    "    print('it is a file')\n",
    "else:\n",
    "    print('it is neither a file nor a directory')"
   ]
  },
  {
   "cell_type": "code",
   "execution_count": null,
   "id": "58c0010f",
   "metadata": {},
   "outputs": [],
   "source": []
  }
 ],
 "metadata": {
  "kernelspec": {
   "display_name": "Python 3",
   "language": "python",
   "name": "python3"
  },
  "language_info": {
   "codemirror_mode": {
    "name": "ipython",
    "version": 3
   },
   "file_extension": ".py",
   "mimetype": "text/x-python",
   "name": "python",
   "nbconvert_exporter": "python",
   "pygments_lexer": "ipython3",
   "version": "3.8.0"
  }
 },
 "nbformat": 4,
 "nbformat_minor": 5
}
